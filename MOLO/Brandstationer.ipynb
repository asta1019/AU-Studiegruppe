{
 "cells": [
  {
   "cell_type": "code",
   "execution_count": 4,
   "metadata": {},
   "outputs": [
    {
     "name": "stdout",
     "output_type": "stream",
     "text": [
      "Optimale placeringer af brandstationer: [(4, 3), (4, 8), (8, 4)]\n"
     ]
    }
   ],
   "source": [
    "# Importer PuLP-funktioner\n",
    "import pulp as PLP\n",
    "import math \n",
    "\n",
    "# Manimeringsproblem\n",
    "Model = PLP.LpProblem(\"Brandstationer\", PLP.LpMinimize)\n",
    "\n",
    "# Bykoordinater set S\n",
    "x = [3.6, 1.6, 6.5, 8.8, 0.4, 2.8, 6.3, 8.6, 1.0, 6.4, 5.7, 8.6, 2.8, 4.1, 8.7]\n",
    "y = [2.1, 3.3, 8.5, 0.7, 8.3, 7.9, 1.2, 1.6, 0.9, 5.0, 7.1, 4.7, 4.2, 2.7, 7.8]\n",
    "\n",
    "byer = [(x[i], y[i]) for i in range(len(x))]\n",
    "\n",
    "# potentielle brandstationsplaceringer\n",
    "Stationer = [(x, y) for x in range(10) for y in range(10)]\n",
    "\n",
    "# 100 deltavariabler da der er 100 potentielle positioner for brandstationerne. Delta er en beslutningsvariable \n",
    "Delta = PLP.LpVariable.dicts(\"Delta\", Stationer, cat='Binary')\n",
    "\n",
    "# a_ij: Hvis den i'te by er dækket af den j'te brandstation, så a_ij = 1\n",
    "L = 4\n",
    "A = {}\n",
    "for i in byer:\n",
    "    for j in Stationer:\n",
    "        if math.dist(i, j) <= L:\n",
    "            A[(i, j)] = 1\n",
    "        else:\n",
    "            A[(i, j)] = 0\n",
    "\n",
    "# Objektfunktion: minimere antallet af brandstationer der bliver \"taget i brug\"\n",
    "Model += PLP.lpSum(Delta[j] for j in Stationer), \"Objektfunktion\"\n",
    "\n",
    "# En begrænsning pr. by og en variabel pr. delmængde (potentiel placering af brandstation)\n",
    "for i in byer:\n",
    "    Model += PLP.lpSum(A[(i, j)] * Delta[j] for j in Stationer) >= 1, f\"Begrænsning for by {i}\"\n",
    "\n",
    "# Løs problemet\n",
    "Model.solve(PLP.PULP_CBC_CMD(msg=False))\n",
    "\n",
    "# Udskriv resultater\n",
    "valgte_stationer = [s for s in Stationer if PLP.value(Delta[s]) == 1]\n",
    "print(\"Optimale placeringer af brandstationer:\", valgte_stationer)\n"
   ]
  }
 ],
 "metadata": {
  "kernelspec": {
   "display_name": "Python 3",
   "language": "python",
   "name": "python3"
  },
  "language_info": {
   "codemirror_mode": {
    "name": "ipython",
    "version": 3
   },
   "file_extension": ".py",
   "mimetype": "text/x-python",
   "name": "python",
   "nbconvert_exporter": "python",
   "pygments_lexer": "ipython3",
   "version": "3.12.1"
  }
 },
 "nbformat": 4,
 "nbformat_minor": 2
}
