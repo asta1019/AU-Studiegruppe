{
 "cells": [
  {
   "cell_type": "code",
   "execution_count": null,
   "id": "93fc2c15",
   "metadata": {},
   "outputs": [
    {
     "name": "stdout",
     "output_type": "stream",
     "text": [
      "Status: Optimal\n",
      "x_1_1 = 225.0\n",
      "x_1_2 = 125.0\n",
      "x_1_3 = 25.0\n",
      "x_1_4 = 25.0\n",
      "x_1_5 = 0.0\n",
      "x_2_1 = 0.0\n",
      "x_2_2 = 0.0\n",
      "x_2_3 = 125.0\n",
      "x_2_4 = 0.0\n",
      "x_2_5 = 75.0\n",
      "x_3_1 = 0.0\n",
      "x_3_2 = 0.0\n",
      "x_3_3 = 0.0\n",
      "x_3_4 = 300.0\n",
      "x_3_5 = 0.0\n",
      "x_4_1 = 0.0\n",
      "x_4_2 = 0.0\n",
      "x_4_3 = 0.0\n",
      "x_4_4 = 0.0\n",
      "x_4_5 = 100.0\n",
      "Obj. =  3050.0\n"
     ]
    }
   ],
   "source": [
    "# Eksempel 5.2 i bogen Model Building in Mathematical Programming\n",
    "# Transportproblem\n",
    "# Strukturen i nedenstående svarer til dette eksempel i PuLP-dokumentationen med mindre modifikationer:\n",
    "# https://coin-or.github.io/pulp/CaseStudies/a_transportation_problem.html\n",
    "\n",
    "# Importer PuLP-funktioner\n",
    "import pulp as PLP\n",
    "\n",
    "# Minimeringsproblem\n",
    "Model = PLP.LpProblem(\"Eks52\",PLP.LpMinimize)\n",
    "\n",
    "UdbyderRange = range(1,5) # 1..4\n",
    "Supply = [0,400,200,300, 100]\n",
    "\n",
    "KundeRange = range(1,6) # 1..5\n",
    "Demand = [0,225, 125, 150, 325, 175]\n",
    "\n",
    "M = 999 # meget dyr derfor vælge M ikke i den optimale løsning\n",
    "UnitCosts = [[0],\n",
    "             [0, 3, 6, 6, 7, 7],\n",
    "             [0, 2, 9, 4, 9, 4],\n",
    "             [0, 8, 8, 3, 1, 7],\n",
    "             [0, 5, 4, 8, 5, 2]]\n",
    "\n",
    "# Beslutningsvariable x(i,j)\n",
    "x = PLP.LpVariable.dicts(\"x\",(UdbyderRange,KundeRange),0,None) # x(1,1) .. x(3,4)\n",
    "\n",
    "# Objektfunktion\n",
    "Model += PLP.lpSum(UnitCosts[i][j] * x[i][j] for i in UdbyderRange for j in KundeRange),\"Objektfunktion\"\n",
    "\n",
    "# Udbud:\n",
    "for i in UdbyderRange:\n",
    "    Model += PLP.lpSum([x[i][j] for j in KundeRange]) <= Supply[i],\"Supply%s\"%i\n",
    "\n",
    "# Efterspørgsler:\n",
    "for j in KundeRange:\n",
    "    Model += PLP.lpSum([x[i][j] for i in UdbyderRange]) == Demand[j],\"Demand%s\"%j\n",
    "\n",
    "# print(Model)\n",
    "Model.solve(PLP.PULP_CBC_CMD(msg=False))\n",
    "\n",
    "# Print af løsningens status\n",
    "print(\"Status:\", PLP.LpStatus[Model.status])\n",
    "\n",
    "# Print af hver variabel med navn og løsningsværdi\n",
    "for v in Model.variables():\n",
    "    print(v.name, \"=\", v.varValue)\n",
    "\n",
    "# Print af den optimale objektfunktionsværdi\n",
    "print(\"Obj. = \", PLP.value(Model.objective))\n"
   ]
  }
 ],
 "metadata": {
  "kernelspec": {
   "display_name": "base",
   "language": "python",
   "name": "python3"
  },
  "language_info": {
   "codemirror_mode": {
    "name": "ipython",
    "version": 3
   },
   "file_extension": ".py",
   "mimetype": "text/x-python",
   "name": "python",
   "nbconvert_exporter": "python",
   "pygments_lexer": "ipython3",
   "version": "3.12.4"
  }
 },
 "nbformat": 4,
 "nbformat_minor": 5
}
