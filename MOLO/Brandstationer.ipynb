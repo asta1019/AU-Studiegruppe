{
 "cells": [
  {
   "cell_type": "code",
   "execution_count": 16,
   "metadata": {},
   "outputs": [
    {
     "ename": "TypeError",
     "evalue": "must be real number, not str",
     "output_type": "error",
     "traceback": [
      "\u001b[1;31m---------------------------------------------------------------------------\u001b[0m",
      "\u001b[1;31mTypeError\u001b[0m                                 Traceback (most recent call last)",
      "Cell \u001b[1;32mIn[16], line 41\u001b[0m\n\u001b[0;32m     35\u001b[0m     Model \u001b[38;5;241m+\u001b[39m\u001b[38;5;241m=\u001b[39m PLP\u001b[38;5;241m.\u001b[39mlpSum(A[(i, j)] \u001b[38;5;241m*\u001b[39m Delta[j] \u001b[38;5;28;01mfor\u001b[39;00m j \u001b[38;5;129;01min\u001b[39;00m Stationer) \u001b[38;5;241m>\u001b[39m\u001b[38;5;241m=\u001b[39m \u001b[38;5;241m1\u001b[39m , \u001b[38;5;124mf\u001b[39m\u001b[38;5;124m\"\u001b[39m\u001b[38;5;124mBegrænsning for by \u001b[39m\u001b[38;5;132;01m{\u001b[39;00mi\u001b[38;5;132;01m}\u001b[39;00m\u001b[38;5;124m\"\u001b[39m\n\u001b[0;32m     40\u001b[0m \u001b[38;5;66;03m# Løs problemet\u001b[39;00m\n\u001b[1;32m---> 41\u001b[0m \u001b[43mModel\u001b[49m\u001b[38;5;241;43m.\u001b[39;49m\u001b[43msolve\u001b[49m\u001b[43m(\u001b[49m\u001b[43mPLP\u001b[49m\u001b[38;5;241;43m.\u001b[39;49m\u001b[43mPULP_CBC_CMD\u001b[49m\u001b[43m(\u001b[49m\u001b[43mmsg\u001b[49m\u001b[38;5;241;43m=\u001b[39;49m\u001b[38;5;28;43;01mFalse\u001b[39;49;00m\u001b[43m)\u001b[49m\u001b[43m)\u001b[49m\n",
      "File \u001b[1;32mc:\\Users\\Nicoline Slyk\\AppData\\Local\\Programs\\Python\\Python312\\Lib\\site-packages\\pulp\\pulp.py:1867\u001b[0m, in \u001b[0;36mLpProblem.solve\u001b[1;34m(self, solver, **kwargs)\u001b[0m\n\u001b[0;32m   1865\u001b[0m \u001b[38;5;66;03m# time it\u001b[39;00m\n\u001b[0;32m   1866\u001b[0m \u001b[38;5;28mself\u001b[39m\u001b[38;5;241m.\u001b[39mstartClock()\n\u001b[1;32m-> 1867\u001b[0m status \u001b[38;5;241m=\u001b[39m \u001b[43msolver\u001b[49m\u001b[38;5;241;43m.\u001b[39;49m\u001b[43mactualSolve\u001b[49m\u001b[43m(\u001b[49m\u001b[38;5;28;43mself\u001b[39;49m\u001b[43m,\u001b[49m\u001b[43m \u001b[49m\u001b[38;5;241;43m*\u001b[39;49m\u001b[38;5;241;43m*\u001b[39;49m\u001b[43mkwargs\u001b[49m\u001b[43m)\u001b[49m\n\u001b[0;32m   1868\u001b[0m \u001b[38;5;28mself\u001b[39m\u001b[38;5;241m.\u001b[39mstopClock()\n\u001b[0;32m   1869\u001b[0m \u001b[38;5;28mself\u001b[39m\u001b[38;5;241m.\u001b[39mrestoreObjective(wasNone, dummyVar)\n",
      "File \u001b[1;32mc:\\Users\\Nicoline Slyk\\AppData\\Local\\Programs\\Python\\Python312\\Lib\\site-packages\\pulp\\apis\\coin_api.py:112\u001b[0m, in \u001b[0;36mCOIN_CMD.actualSolve\u001b[1;34m(self, lp, **kwargs)\u001b[0m\n\u001b[0;32m    110\u001b[0m \u001b[38;5;28;01mdef\u001b[39;00m \u001b[38;5;21mactualSolve\u001b[39m(\u001b[38;5;28mself\u001b[39m, lp, \u001b[38;5;241m*\u001b[39m\u001b[38;5;241m*\u001b[39mkwargs):\n\u001b[0;32m    111\u001b[0m \u001b[38;5;250m    \u001b[39m\u001b[38;5;124;03m\"\"\"Solve a well formulated lp problem\"\"\"\u001b[39;00m\n\u001b[1;32m--> 112\u001b[0m     \u001b[38;5;28;01mreturn\u001b[39;00m \u001b[38;5;28;43mself\u001b[39;49m\u001b[38;5;241;43m.\u001b[39;49m\u001b[43msolve_CBC\u001b[49m\u001b[43m(\u001b[49m\u001b[43mlp\u001b[49m\u001b[43m,\u001b[49m\u001b[43m \u001b[49m\u001b[38;5;241;43m*\u001b[39;49m\u001b[38;5;241;43m*\u001b[39;49m\u001b[43mkwargs\u001b[49m\u001b[43m)\u001b[49m\n",
      "File \u001b[1;32mc:\\Users\\Nicoline Slyk\\AppData\\Local\\Programs\\Python\\Python312\\Lib\\site-packages\\pulp\\apis\\coin_api.py:128\u001b[0m, in \u001b[0;36mCOIN_CMD.solve_CBC\u001b[1;34m(self, lp, use_mps)\u001b[0m\n\u001b[0;32m    124\u001b[0m tmpLp, tmpMps, tmpSol, tmpMst \u001b[38;5;241m=\u001b[39m \u001b[38;5;28mself\u001b[39m\u001b[38;5;241m.\u001b[39mcreate_tmp_files(\n\u001b[0;32m    125\u001b[0m     lp\u001b[38;5;241m.\u001b[39mname, \u001b[38;5;124m\"\u001b[39m\u001b[38;5;124mlp\u001b[39m\u001b[38;5;124m\"\u001b[39m, \u001b[38;5;124m\"\u001b[39m\u001b[38;5;124mmps\u001b[39m\u001b[38;5;124m\"\u001b[39m, \u001b[38;5;124m\"\u001b[39m\u001b[38;5;124msol\u001b[39m\u001b[38;5;124m\"\u001b[39m, \u001b[38;5;124m\"\u001b[39m\u001b[38;5;124mmst\u001b[39m\u001b[38;5;124m\"\u001b[39m\n\u001b[0;32m    126\u001b[0m )\n\u001b[0;32m    127\u001b[0m \u001b[38;5;28;01mif\u001b[39;00m use_mps:\n\u001b[1;32m--> 128\u001b[0m     vs, variablesNames, constraintsNames, objectiveName \u001b[38;5;241m=\u001b[39m \u001b[43mlp\u001b[49m\u001b[38;5;241;43m.\u001b[39;49m\u001b[43mwriteMPS\u001b[49m\u001b[43m(\u001b[49m\n\u001b[0;32m    129\u001b[0m \u001b[43m        \u001b[49m\u001b[43mtmpMps\u001b[49m\u001b[43m,\u001b[49m\u001b[43m \u001b[49m\u001b[43mrename\u001b[49m\u001b[38;5;241;43m=\u001b[39;49m\u001b[38;5;241;43m1\u001b[39;49m\n\u001b[0;32m    130\u001b[0m \u001b[43m    \u001b[49m\u001b[43m)\u001b[49m\n\u001b[0;32m    131\u001b[0m     cmds \u001b[38;5;241m=\u001b[39m \u001b[38;5;124m\"\u001b[39m\u001b[38;5;124m \u001b[39m\u001b[38;5;124m\"\u001b[39m \u001b[38;5;241m+\u001b[39m tmpMps \u001b[38;5;241m+\u001b[39m \u001b[38;5;124m\"\u001b[39m\u001b[38;5;124m \u001b[39m\u001b[38;5;124m\"\u001b[39m\n\u001b[0;32m    132\u001b[0m     \u001b[38;5;28;01mif\u001b[39;00m lp\u001b[38;5;241m.\u001b[39msense \u001b[38;5;241m==\u001b[39m constants\u001b[38;5;241m.\u001b[39mLpMaximize:\n",
      "File \u001b[1;32mc:\\Users\\Nicoline Slyk\\AppData\\Local\\Programs\\Python\\Python312\\Lib\\site-packages\\pulp\\pulp.py:1731\u001b[0m, in \u001b[0;36mLpProblem.writeMPS\u001b[1;34m(self, filename, mpsSense, rename, mip, with_objsense)\u001b[0m\n\u001b[0;32m   1716\u001b[0m \u001b[38;5;28;01mdef\u001b[39;00m \u001b[38;5;21mwriteMPS\u001b[39m(\n\u001b[0;32m   1717\u001b[0m     \u001b[38;5;28mself\u001b[39m, filename, mpsSense\u001b[38;5;241m=\u001b[39m\u001b[38;5;241m0\u001b[39m, rename\u001b[38;5;241m=\u001b[39m\u001b[38;5;241m0\u001b[39m, mip\u001b[38;5;241m=\u001b[39m\u001b[38;5;241m1\u001b[39m, with_objsense: \u001b[38;5;28mbool\u001b[39m \u001b[38;5;241m=\u001b[39m \u001b[38;5;28;01mFalse\u001b[39;00m\n\u001b[0;32m   1718\u001b[0m ):\n\u001b[0;32m   1719\u001b[0m \u001b[38;5;250m    \u001b[39m\u001b[38;5;124;03m\"\"\"\u001b[39;00m\n\u001b[0;32m   1720\u001b[0m \u001b[38;5;124;03m    Writes an mps files from the problem information\u001b[39;00m\n\u001b[0;32m   1721\u001b[0m \n\u001b[1;32m   (...)\u001b[0m\n\u001b[0;32m   1729\u001b[0m \u001b[38;5;124;03m        - The file is created\u001b[39;00m\n\u001b[0;32m   1730\u001b[0m \u001b[38;5;124;03m    \"\"\"\u001b[39;00m\n\u001b[1;32m-> 1731\u001b[0m     \u001b[38;5;28;01mreturn\u001b[39;00m \u001b[43mmpslp\u001b[49m\u001b[38;5;241;43m.\u001b[39;49m\u001b[43mwriteMPS\u001b[49m\u001b[43m(\u001b[49m\n\u001b[0;32m   1732\u001b[0m \u001b[43m        \u001b[49m\u001b[38;5;28;43mself\u001b[39;49m\u001b[43m,\u001b[49m\n\u001b[0;32m   1733\u001b[0m \u001b[43m        \u001b[49m\u001b[43mfilename\u001b[49m\u001b[43m,\u001b[49m\n\u001b[0;32m   1734\u001b[0m \u001b[43m        \u001b[49m\u001b[43mmpsSense\u001b[49m\u001b[38;5;241;43m=\u001b[39;49m\u001b[43mmpsSense\u001b[49m\u001b[43m,\u001b[49m\n\u001b[0;32m   1735\u001b[0m \u001b[43m        \u001b[49m\u001b[43mrename\u001b[49m\u001b[38;5;241;43m=\u001b[39;49m\u001b[43mrename\u001b[49m\u001b[43m,\u001b[49m\n\u001b[0;32m   1736\u001b[0m \u001b[43m        \u001b[49m\u001b[43mmip\u001b[49m\u001b[38;5;241;43m=\u001b[39;49m\u001b[43mmip\u001b[49m\u001b[43m,\u001b[49m\n\u001b[0;32m   1737\u001b[0m \u001b[43m        \u001b[49m\u001b[43mwith_objsense\u001b[49m\u001b[38;5;241;43m=\u001b[39;49m\u001b[43mwith_objsense\u001b[49m\u001b[43m,\u001b[49m\n\u001b[0;32m   1738\u001b[0m \u001b[43m    \u001b[49m\u001b[43m)\u001b[49m\n",
      "File \u001b[1;32mc:\\Users\\Nicoline Slyk\\AppData\\Local\\Programs\\Python\\Python312\\Lib\\site-packages\\pulp\\mps_lp.py:253\u001b[0m, in \u001b[0;36mwriteMPS\u001b[1;34m(LpProblem, filename, mpsSense, rename, mip, with_objsense)\u001b[0m\n\u001b[0;32m    251\u001b[0m bound_lines \u001b[38;5;241m=\u001b[39m []\n\u001b[0;32m    252\u001b[0m \u001b[38;5;28;01mfor\u001b[39;00m v \u001b[38;5;129;01min\u001b[39;00m vs:\n\u001b[1;32m--> 253\u001b[0m     bound_lines\u001b[38;5;241m.\u001b[39mextend(\u001b[43mwriteMPSBoundLines\u001b[49m\u001b[43m(\u001b[49m\u001b[43mvarNames\u001b[49m\u001b[43m[\u001b[49m\u001b[43mv\u001b[49m\u001b[38;5;241;43m.\u001b[39;49m\u001b[43mname\u001b[49m\u001b[43m]\u001b[49m\u001b[43m,\u001b[49m\u001b[43m \u001b[49m\u001b[43mv\u001b[49m\u001b[43m,\u001b[49m\u001b[43m \u001b[49m\u001b[43mmip\u001b[49m\u001b[43m)\u001b[49m)\n\u001b[0;32m    255\u001b[0m \u001b[38;5;28;01mwith\u001b[39;00m \u001b[38;5;28mopen\u001b[39m(filename, \u001b[38;5;124m\"\u001b[39m\u001b[38;5;124mw\u001b[39m\u001b[38;5;124m\"\u001b[39m) \u001b[38;5;28;01mas\u001b[39;00m f:\n\u001b[0;32m    256\u001b[0m     \u001b[38;5;28;01mif\u001b[39;00m with_objsense:\n",
      "File \u001b[1;32mc:\\Users\\Nicoline Slyk\\AppData\\Local\\Programs\\Python\\Python312\\Lib\\site-packages\\pulp\\mps_lp.py:317\u001b[0m, in \u001b[0;36mwriteMPSBoundLines\u001b[1;34m(name, variable, mip)\u001b[0m\n\u001b[0;32m    309\u001b[0m \u001b[38;5;28;01mif\u001b[39;00m variable\u001b[38;5;241m.\u001b[39mlowBound \u001b[38;5;129;01mis\u001b[39;00m \u001b[38;5;129;01mnot\u001b[39;00m \u001b[38;5;28;01mNone\u001b[39;00m:\n\u001b[0;32m    310\u001b[0m     \u001b[38;5;66;03m# In MPS files, variables with no bounds (i.e. >= 0)\u001b[39;00m\n\u001b[0;32m    311\u001b[0m     \u001b[38;5;66;03m# are assumed BV by COIN and CPLEX.\u001b[39;00m\n\u001b[0;32m    312\u001b[0m     \u001b[38;5;66;03m# So we explicitly write a 0 lower bound in this case.\u001b[39;00m\n\u001b[0;32m    313\u001b[0m     \u001b[38;5;28;01mif\u001b[39;00m variable\u001b[38;5;241m.\u001b[39mlowBound \u001b[38;5;241m!=\u001b[39m \u001b[38;5;241m0\u001b[39m \u001b[38;5;129;01mor\u001b[39;00m (\n\u001b[0;32m    314\u001b[0m         mip \u001b[38;5;129;01mand\u001b[39;00m variable\u001b[38;5;241m.\u001b[39mcat \u001b[38;5;241m==\u001b[39m const\u001b[38;5;241m.\u001b[39mLpInteger \u001b[38;5;129;01mand\u001b[39;00m variable\u001b[38;5;241m.\u001b[39mupBound \u001b[38;5;129;01mis\u001b[39;00m \u001b[38;5;28;01mNone\u001b[39;00m\n\u001b[0;32m    315\u001b[0m     ):\n\u001b[0;32m    316\u001b[0m         bound_lines\u001b[38;5;241m.\u001b[39mappend(\n\u001b[1;32m--> 317\u001b[0m             \u001b[38;5;124;43m\"\u001b[39;49m\u001b[38;5;124;43m LO BND       \u001b[39;49m\u001b[38;5;132;43;01m%-8s\u001b[39;49;00m\u001b[38;5;124;43m  \u001b[39;49m\u001b[38;5;132;43;01m% .12e\u001b[39;49;00m\u001b[38;5;130;43;01m\\n\u001b[39;49;00m\u001b[38;5;124;43m\"\u001b[39;49m\u001b[43m \u001b[49m\u001b[38;5;241;43m%\u001b[39;49m\u001b[43m \u001b[49m\u001b[43m(\u001b[49m\u001b[43mname\u001b[49m\u001b[43m,\u001b[49m\u001b[43m \u001b[49m\u001b[43mvariable\u001b[49m\u001b[38;5;241;43m.\u001b[39;49m\u001b[43mlowBound\u001b[49m\u001b[43m)\u001b[49m\n\u001b[0;32m    318\u001b[0m         )\n\u001b[0;32m    319\u001b[0m \u001b[38;5;28;01melse\u001b[39;00m:\n\u001b[0;32m    320\u001b[0m     \u001b[38;5;28;01mif\u001b[39;00m variable\u001b[38;5;241m.\u001b[39mupBound \u001b[38;5;129;01mis\u001b[39;00m \u001b[38;5;129;01mnot\u001b[39;00m \u001b[38;5;28;01mNone\u001b[39;00m:\n",
      "\u001b[1;31mTypeError\u001b[0m: must be real number, not str"
     ]
    }
   ],
   "source": [
    "# Importer PuLP-funktioner\n",
    "import pulp as PLP\n",
    "import math as math\n",
    "\n",
    "# Manimeringsproblem\n",
    "Model = PLP.LpProblem(\"Brandstationer\",PLP.LpMinimize)\n",
    "\n",
    "# Bykoordinater\n",
    "x = [3.6, 1.6, 6.5, 8.8, 0.4, 2.8, 6.3, 8.6, 1.0, 6.4, 5.7, 8.6, 2.8, 4.1, 8.7]\n",
    "y = [2.1, 3.3, 8.5, 0.7, 8.3, 7.9, 1.2, 1.6, 0.9, 5.0, 7.1, 4.7, 4.2, 2.7, 7.8]\n",
    "byer = [(x[i], y[i]) for i in range(len(x))]\n",
    "\n",
    "#potentielle brandstationsplaceringer \n",
    "Stationer = [(x, y) for x in range(10) for y in range(10)]\n",
    "\n",
    "# der er 100 deltavariabler da der er 100 potentielle positioner for brandstationerne \n",
    "Delta = PLP.LpVariable.dicts(\"Delta\", Stationer, PLP.LpBinary)\n",
    "\n",
    "# a_ij Hvis den i'by er dækket af den j'te brandstatio skal a_ij = 1\n",
    "\n",
    "L = 3\n",
    "A = {}\n",
    "for i in byer:\n",
    "    for j in Stationer:\n",
    "        if math.dist(i, j) <= L:\n",
    "            A[(i, j)] = 1\n",
    "        else:\n",
    "            A[(i, j)] = 0\n",
    "\n",
    "# objektfunktion: minimere antallet af stationer som bliver \"taget i brug\"\n",
    "Model += PLP.lpSum(Delta[j] for j in Stationer),\"Objektfunktion\"\n",
    "\n",
    "# en begrænsning pr. by og en variabel pr. delmængde (potentiel placering af brandstation)\n",
    "for i in byer:\n",
    "    Model += PLP.lpSum(A[(i, j)] * Delta[j] for j in Stationer) >= 1 , f\"Begrænsning for by {i}\"\n",
    "\n",
    "\n",
    "\n",
    "\n",
    "# Løs problemet\n",
    "Model.solve(PLP.PULP_CBC_CMD(msg=False))\n",
    "\n"
   ]
  },
  {
   "cell_type": "code",
   "execution_count": 21,
   "metadata": {},
   "outputs": [
    {
     "name": "stdout",
     "output_type": "stream",
     "text": [
      "Optimale placeringer af brandstationer: [(3, 7), (4, 0), (8, 4)]\n"
     ]
    }
   ],
   "source": [
    "# Importer PuLP-funktioner\n",
    "import pulp as PLP\n",
    "import math \n",
    "\n",
    "# Manimeringsproblem\n",
    "Model = PLP.LpProblem(\"Brandstationer\", PLP.LpMinimize)\n",
    "\n",
    "# Bykoordinater set S\n",
    "x = [3.6, 1.6, 6.5, 8.8, 0.4, 2.8, 6.3, 8.6, 1.0, 6.4, 5.7, 8.6, 2.8, 4.1, 8.7]\n",
    "y = [2.1, 3.3, 8.5, 0.7, 8.3, 7.9, 1.2, 1.6, 0.9, 5.0, 7.1, 4.7, 4.2, 2.7, 7.8]\n",
    "\n",
    "byer = [(x[i], y[i]) for i in range(len(x))]\n",
    "\n",
    "# potentielle brandstationsplaceringer\n",
    "Stationer = [(x, y) for x in range(10) for y in range(10)]\n",
    "\n",
    "# 100 deltavariabler da der er 100 potentielle positioner for brandstationerne. Delta er en beslutningsvariable \n",
    "Delta = PLP.LpVariable.dicts(\"Delta\", Stationer, cat='Binary')\n",
    "\n",
    "# a_ij: Hvis den i'te by er dækket af den j'te brandstation, så a_ij = 1\n",
    "L = 4\n",
    "A = {}\n",
    "for i in byer:\n",
    "    for j in Stationer:\n",
    "        if math.dist(i, j) <= L:\n",
    "            A[(i, j)] = 1\n",
    "        else:\n",
    "            A[(i, j)] = 0\n",
    "\n",
    "# Objektfunktion: minimere antallet af brandstationer der bliver \"taget i brug\"\n",
    "Model += PLP.lpSum(Delta[j] for j in Stationer), \"Objektfunktion\"\n",
    "\n",
    "# En begrænsning pr. by og en variabel pr. delmængde (potentiel placering af brandstation)\n",
    "for i in byer:\n",
    "    Model += PLP.lpSum(A[(i, j)] * Delta[j] for j in Stationer) >= 1, f\"Begrænsning for by {i}\"\n",
    "\n",
    "# Løs problemet\n",
    "Model.solve(PLP.PULP_CBC_CMD(msg=False))\n",
    "\n",
    "# Udskriv resultater\n",
    "valgte_stationer = [s for s in Stationer if PLP.value(Delta[s]) == 1]\n",
    "print(\"Optimale placeringer af brandstationer:\", valgte_stationer)\n"
   ]
  }
 ],
 "metadata": {
  "kernelspec": {
   "display_name": "Python 3",
   "language": "python",
   "name": "python3"
  },
  "language_info": {
   "codemirror_mode": {
    "name": "ipython",
    "version": 3
   },
   "file_extension": ".py",
   "mimetype": "text/x-python",
   "name": "python",
   "nbconvert_exporter": "python",
   "pygments_lexer": "ipython3",
   "version": "3.12.1"
  }
 },
 "nbformat": 4,
 "nbformat_minor": 2
}
