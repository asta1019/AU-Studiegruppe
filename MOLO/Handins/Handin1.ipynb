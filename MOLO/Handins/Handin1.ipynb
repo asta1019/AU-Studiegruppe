{
 "cells": [
  {
   "cell_type": "markdown",
   "id": "b99705dd",
   "metadata": {},
   "source": [
    "## MOLO Handin 1 (Eksamen 2021, opg. 2)"
   ]
  },
  {
   "cell_type": "code",
   "execution_count": null,
   "id": "a410c036",
   "metadata": {},
   "outputs": [
    {
     "name": "stdout",
     "output_type": "stream",
     "text": [
      "Optimal værdi: z = 53.0\n",
      "x1 = 4.0, x2 = 3.0\n"
     ]
    }
   ],
   "source": [
    "import pulp as PLP\n",
    "\n",
    "# Maximeringsproblem\n",
    "model = PLP.LpProblem(name=\"ILP-problem\", sense=PLP.LpMaximize)\n",
    "\n",
    "# Variable\n",
    "x1 = PLP.LpVariable(name=\"x1\", lowBound=0, cat=\"Integer\")\n",
    "x2 = PLP.LpVariable(name=\"x2\", lowBound=0, cat=\"Integer\")\n",
    "\n",
    "# Objektivfunktion\n",
    "model += 8 * x1 + 7 * x2, \"Objective\"\n",
    "\n",
    "# Begrænsninger\n",
    "model += 3 * x1 + 8 * x2 <= 48, \"Constraint1\"\n",
    "model += 7 * x1 + 8 * x2 <= 56, \"Constraint2\"\n",
    "model += 5 * x1 + 3 * x2 <= 30, \"Constraint3\"\n",
    "model += 4 * x1 + x2 <= 22, \"Constraint4\"\n",
    "\n",
    "# Løs problemet\n",
    "model.solve(PLP.PULP_CBC_CMD(msg=False))\n",
    "\n",
    "print(f\"Optimal værdi: z = {model.objective.value()}\")\n",
    "print(f\"x1 = {x1.value()}, x2 = {x2.value()}\")"
   ]
  }
 ],
 "metadata": {
  "kernelspec": {
   "display_name": "base",
   "language": "python",
   "name": "python3"
  },
  "language_info": {
   "codemirror_mode": {
    "name": "ipython",
    "version": 3
   },
   "file_extension": ".py",
   "mimetype": "text/x-python",
   "name": "python",
   "nbconvert_exporter": "python",
   "pygments_lexer": "ipython3",
   "version": "3.11.5"
  }
 },
 "nbformat": 4,
 "nbformat_minor": 5
}
